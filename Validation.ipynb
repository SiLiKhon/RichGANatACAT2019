{
 "cells": [
  {
   "cell_type": "code",
   "execution_count": null,
   "metadata": {},
   "outputs": [],
   "source": [
    "import numpy as np\n",
    "import pandas as pd\n",
    "import matplotlib.pyplot as plt\n",
    "\n",
    "%matplotlib inline\n",
    "\n",
    "from make_prediction import DataSplits"
   ]
  },
  {
   "cell_type": "code",
   "execution_count": null,
   "metadata": {},
   "outputs": [],
   "source": [
    "particles = ['kaon', 'pion', 'muon', 'proton']"
   ]
  },
  {
   "cell_type": "code",
   "execution_count": null,
   "metadata": {},
   "outputs": [],
   "source": [
    "i_plot = 0\n",
    "plt.figure(figsize=(90, 70))\n",
    "for p in particles:\n",
    "    df = pd.read_csv('validation_output/{}.csv'.format(p))\n",
    "    \n",
    "    pred_cols = [col for col in df.columns]\n",
    "    \n",
    "    for col in pred_cols:\n",
    "        i_plot += 1\n",
    "        plt.subplot(len(particles), len(pred_cols), i_plot)\n",
    "        plt.hist(df[col], bins=80)\n",
    "        plt.title(p)\n",
    "        plt.xlabel(col);"
   ]
  },
  {
   "cell_type": "code",
   "execution_count": null,
   "metadata": {},
   "outputs": [],
   "source": []
  },
  {
   "cell_type": "code",
   "execution_count": null,
   "metadata": {},
   "outputs": [],
   "source": [
    "import utils_rich_mrartemev as utils_rich\n",
    "\n",
    "data_full = {\n",
    "    particle : utils_rich.load_and_merge_and_cut(utils_rich.datasets[particle])\n",
    "    for particle in particles\n",
    "}"
   ]
  },
  {
   "cell_type": "code",
   "execution_count": null,
   "metadata": {},
   "outputs": [],
   "source": [
    "plt.figure(figsize=(9, 6))\n",
    "for particle in particles:\n",
    "    x = data_full[particle]['nTracks_Brunel']\n",
    "    w = data_full[particle][utils_rich.weight_col]\n",
    "    plt.hist(x, weights=w, bins=np.linspace(0, 600, 201), density=True, label=particle, histtype='step')\n",
    "\n",
    "plt.xlabel('nTracks')\n",
    "plt.legend()\n",
    "plt.show();"
   ]
  },
  {
   "cell_type": "code",
   "execution_count": null,
   "metadata": {},
   "outputs": [],
   "source": []
  },
  {
   "cell_type": "code",
   "execution_count": null,
   "metadata": {},
   "outputs": [],
   "source": [
    "data_ref  = pd.read_pickle(\"predictions.pkl\")\n",
    "data_test = pd.read_pickle(\"predictions_with_tfScaler.pkl\")"
   ]
  },
  {
   "cell_type": "code",
   "execution_count": null,
   "metadata": {},
   "outputs": [],
   "source": [
    "i_plot = 0\n",
    "plt.figure(figsize=(90, 70))\n",
    "for p in particles:\n",
    "    assert set(data_ref[p].test.columns) == set(data_test[p].test.columns)\n",
    "    cols = [col for col in data_ref[p].test.columns if 'predicted' not in col]\n",
    "    assert (data_ref[p].test[cols] == data_test[p].test[cols]).all().all()\n",
    "    \n",
    "    pred_cols = [col for col in data_ref[p].test.columns if 'predicted' in col]\n",
    "    \n",
    "    for col in pred_cols:\n",
    "        i_plot += 1\n",
    "        plt.subplot(len(particles), len(pred_cols), i_plot)\n",
    "        ref  = data_ref [p].test[col]\n",
    "        test = data_test[p].test[col]\n",
    "        \n",
    "        bins = np.linspace(\n",
    "            min(ref.min(), test.min()),\n",
    "            max(ref.max(), test.max()),\n",
    "            101\n",
    "        )\n",
    "        plt.hist(ref , bins=bins, label='ref')\n",
    "        plt.hist(test, bins=bins, label='test', histtype='step')\n",
    "        plt.legend();"
   ]
  },
  {
   "cell_type": "code",
   "execution_count": null,
   "metadata": {},
   "outputs": [],
   "source": []
  }
 ],
 "metadata": {
  "kernelspec": {
   "display_name": "Python 3",
   "language": "python",
   "name": "python3"
  },
  "language_info": {
   "codemirror_mode": {
    "name": "ipython",
    "version": 3
   },
   "file_extension": ".py",
   "mimetype": "text/x-python",
   "name": "python",
   "nbconvert_exporter": "python",
   "pygments_lexer": "ipython3",
   "version": "3.6.7"
  }
 },
 "nbformat": 4,
 "nbformat_minor": 2
}
