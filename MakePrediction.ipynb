{
 "cells": [
  {
   "cell_type": "code",
   "execution_count": 1,
   "metadata": {},
   "outputs": [],
   "source": [
    "import os\n",
    "os.environ['CUDA_DEVICE_ORDER']='PCI_BUS_ID'\n",
    "os.environ['CUDA_VISIBLE_DEVICES']='0'"
   ]
  },
  {
   "cell_type": "code",
   "execution_count": 2,
   "metadata": {},
   "outputs": [],
   "source": [
    "import tensorflow as tf\n",
    "tf_config = tf.ConfigProto(gpu_options=tf.GPUOptions(allow_growth=True))"
   ]
  },
  {
   "cell_type": "code",
   "execution_count": 4,
   "metadata": {},
   "outputs": [],
   "source": [
    "import utils_rich_mrartemev\n",
    "import pandas as pd\n",
    "import numpy as np\n",
    "import matplotlib.pyplot as plt\n",
    "%matplotlib inline"
   ]
  },
  {
   "cell_type": "code",
   "execution_count": 7,
   "metadata": {},
   "outputs": [],
   "source": [
    "utils_rich = utils_rich_mrartemev\n",
    "particles = ['kaon', 'pion', 'proton', 'muon']"
   ]
  },
  {
   "cell_type": "code",
   "execution_count": 8,
   "metadata": {},
   "outputs": [],
   "source": [
    "data_full = {\n",
    "    particle : utils_rich.load_and_merge_and_cut(utils_rich.datasets[particle])\n",
    "    for particle in particles\n",
    "}"
   ]
  },
  {
   "cell_type": "code",
   "execution_count": 9,
   "metadata": {},
   "outputs": [],
   "source": [
    "from collections import namedtuple\n",
    "DataSplits = namedtuple(\"DataSplits\", ['train', 'val', 'test'])"
   ]
  },
  {
   "cell_type": "code",
   "execution_count": 10,
   "metadata": {},
   "outputs": [],
   "source": [
    "import os"
   ]
  },
  {
   "cell_type": "code",
   "execution_count": 11,
   "metadata": {},
   "outputs": [],
   "source": [
    "models_path = \"/home/martemev/data/Lambda/RICH-GAN/research/exported_model/\"\n",
    "preprocessors_path = \"/home/martemev/data/Lambda/RICH-GAN/research/preprocessors/\"\n",
    "\n",
    "model_name_format = \"FastFastRICH_Cramer_{}\"\n",
    "preprocessor_name_format = \"FastFastRICH_Cramer_{}_preprocessor.pkl\""
   ]
  },
  {
   "cell_type": "code",
   "execution_count": 12,
   "metadata": {},
   "outputs": [],
   "source": [
    "from sklearn.externals import joblib"
   ]
  },
  {
   "cell_type": "code",
   "execution_count": 13,
   "metadata": {},
   "outputs": [
    {
     "name": "stdout",
     "output_type": "stream",
     "text": [
      "INFO:tensorflow:Restoring parameters from /home/martemev/data/Lambda/RICH-GAN/research/exported_model/FastFastRICH_Cramer_kaon/variables/variables\n"
     ]
    },
    {
     "name": "stderr",
     "output_type": "stream",
     "text": [
      "/mnt/amaevskiy/conda_env/lib/python3.6/site-packages/sklearn/base.py:251: UserWarning: Trying to unpickle estimator QuantileTransformer from version 0.19.1 when using version 0.20.1. This might lead to breaking code or invalid results. Use at your own risk.\n",
      "  UserWarning)\n"
     ]
    },
    {
     "name": "stdout",
     "output_type": "stream",
     "text": [
      "INFO:tensorflow:Restoring parameters from /home/martemev/data/Lambda/RICH-GAN/research/exported_model/FastFastRICH_Cramer_pion/variables/variables\n"
     ]
    },
    {
     "name": "stderr",
     "output_type": "stream",
     "text": [
      "/mnt/amaevskiy/conda_env/lib/python3.6/site-packages/sklearn/base.py:251: UserWarning: Trying to unpickle estimator QuantileTransformer from version 0.19.1 when using version 0.20.1. This might lead to breaking code or invalid results. Use at your own risk.\n",
      "  UserWarning)\n"
     ]
    },
    {
     "name": "stdout",
     "output_type": "stream",
     "text": [
      "INFO:tensorflow:Restoring parameters from /home/martemev/data/Lambda/RICH-GAN/research/exported_model/FastFastRICH_Cramer_proton/variables/variables\n"
     ]
    },
    {
     "name": "stderr",
     "output_type": "stream",
     "text": [
      "/mnt/amaevskiy/conda_env/lib/python3.6/site-packages/sklearn/base.py:251: UserWarning: Trying to unpickle estimator QuantileTransformer from version 0.19.1 when using version 0.20.1. This might lead to breaking code or invalid results. Use at your own risk.\n",
      "  UserWarning)\n"
     ]
    },
    {
     "name": "stdout",
     "output_type": "stream",
     "text": [
      "INFO:tensorflow:Restoring parameters from /home/martemev/data/Lambda/RICH-GAN/research/exported_model/FastFastRICH_Cramer_muon/variables/variables\n"
     ]
    },
    {
     "name": "stderr",
     "output_type": "stream",
     "text": [
      "/mnt/amaevskiy/conda_env/lib/python3.6/site-packages/sklearn/base.py:251: UserWarning: Trying to unpickle estimator QuantileTransformer from version 0.19.1 when using version 0.20.1. This might lead to breaking code or invalid results. Use at your own risk.\n",
      "  UserWarning)\n"
     ]
    }
   ],
   "source": [
    "def transform(arr, scaler, inverse=False):\n",
    "    t = scaler.inverse_transform if inverse else scaler.transform\n",
    "    XY_t = t(arr[:,:-1])\n",
    "    W = arr[:,-1:]\n",
    "    return np.concatenate([XY_t, W], axis=1)\n",
    "\n",
    "for particle in particles:\n",
    "    with tf.Session(config=tf_config) as sess:\n",
    "        predictor = tf.contrib.predictor.from_saved_model(\n",
    "            os.path.join(models_path, model_name_format.format(particle))\n",
    "        )\n",
    "        scaler = joblib.load(\n",
    "            os.path.join(preprocessors_path, preprocessor_name_format.format(particle))\n",
    "        )\n",
    "        \n",
    "        data_full_t = transform(data_full[particle].values, scaler)\n",
    "        \n",
    "        predictions_t = predictor({'x' : data_full_t[:,utils_rich.y_count:]})['dlls']\n",
    "        data_full_t[:,:utils_rich.y_count] = predictions_t\n",
    "        data_full_predicted = transform(data_full_t, scaler, inverse=True)\n",
    "        \n",
    "        for i, col in enumerate(utils_rich.dll_columns):\n",
    "            data_full[particle][\"predicted_{}\".format(col)] = data_full_predicted[:,i]"
   ]
  },
  {
   "cell_type": "code",
   "execution_count": 14,
   "metadata": {},
   "outputs": [],
   "source": [
    "splits = {\n",
    "    particle : DataSplits(*utils_rich.split(data_full[particle]))\n",
    "    for particle in particles\n",
    "}"
   ]
  },
  {
   "cell_type": "code",
   "execution_count": 21,
   "metadata": {},
   "outputs": [],
   "source": [
    "pd.to_pickle(splits, 'test.pkl')"
   ]
  },
  {
   "cell_type": "code",
   "execution_count": 15,
   "metadata": {},
   "outputs": [
    {
     "data": {
      "image/png": "[encoded data removed]",
      "text/plain": [
       "<Figure size 432x288 with 1 Axes>"
      ]
     },
     "metadata": {
      "needs_background": "light"
     },
     "output_type": "display_data"
    },
    {
     "data": {
      "image/png": "[encoded data removed]",
      "text/plain": [
       "<Figure size 432x288 with 1 Axes>"
      ]
     },
     "metadata": {
      "needs_background": "light"
     },
     "output_type": "display_data"
    },
    {
     "data": {
      "image/png": "[encoded data removed]",
      "text/plain": [
       "<Figure size 432x288 with 1 Axes>"
      ]
     },
     "metadata": {
      "needs_background": "light"
     },
     "output_type": "display_data"
    },
    {
     "data": {
      "image/png": "[encoded data removed]",
      "text/plain": [
       "<Figure size 432x288 with 1 Axes>"
      ]
     },
     "metadata": {
      "needs_background": "light"
     },
     "output_type": "display_data"
    },
    {
     "data": {
      "image/png": "[encoded data removed]",
      "text/plain": [
       "<Figure size 432x288 with 1 Axes>"
      ]
     },
     "metadata": {
      "needs_background": "light"
     },
     "output_type": "display_data"
    }
   ],
   "source": [
    "df = splits['muon'].test\n",
    "\n",
    "def get_range(*arrays):\n",
    "    left  = min(arr.min() for arr in arrays)\n",
    "    right = max(arr.max() for arr in arrays)\n",
    "    return left, right\n",
    "\n",
    "for col in utils_rich.dll_columns:\n",
    "    col_predicted = \"predicted_{}\".format(col)\n",
    "    bins = np.linspace(*get_range(df[col], df[col_predicted]), 500)\n",
    "    plt.hist(df[col          ], bins=bins, weights=df[utils_rich.weight_col], label='real')\n",
    "    plt.hist(df[col_predicted], bins=bins, weights=df[utils_rich.weight_col], label='generated', alpha=0.5)\n",
    "    plt.legend()\n",
    "    plt.title(col)\n",
    "    plt.show()\n",
    "    "
   ]
  }
 ],
 "metadata": {
  "kernelspec": {
   "display_name": "Python 3",
   "language": "python",
   "name": "python3"
  },
  "language_info": {
   "codemirror_mode": {
    "name": "ipython",
    "version": 3
   },
   "file_extension": ".py",
   "mimetype": "text/x-python",
   "name": "python",
   "nbconvert_exporter": "python",
   "pygments_lexer": "ipython3",
   "version": "3.6.7"
  }
 },
 "nbformat": 4,
 "nbformat_minor": 2
}
